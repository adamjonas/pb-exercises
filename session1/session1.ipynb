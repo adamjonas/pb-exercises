{
 "cells": [
  {
   "cell_type": "code",
   "execution_count": 14,
   "metadata": {},
   "outputs": [],
   "source": [
    "# import everything and define a test runner function\n",
    "from importlib import reload\n",
    "from helper import run_test\n",
    "\n",
    "import ecc\n",
    "import helper"
   ]
  },
  {
   "cell_type": "markdown",
   "metadata": {},
   "source": [
    "### Exercise 1\n",
    "\n",
    "Remember the % operator does the actual modulo operation. Also remember that `+` and `-` need to be in `()` because in the order of operations `%` comes before `+` and `-`.\n",
    "\n",
    "#### 1.1. Solve these equations in \\\\(F_{31}\\\\):\n",
    "\n",
    "```\n",
    "2+15=?\n",
    "17+21=?\n",
    "29-4=?\n",
    "15-30=?\n",
    "```\n",
    "\n",
    "#### 1.2. Make [these tests](/edit/session1/ecc.py) pass:\n",
    "```\n",
    "ecc.py:FieldElementTest:test_add\n",
    "ecc.py:FieldElementTest:test_sub\n",
    "```"
   ]
  },
  {
   "cell_type": "code",
   "execution_count": 4,
   "metadata": {},
   "outputs": [
    {
     "data": {
      "text/plain": [
       "16"
      ]
     },
     "execution_count": 4,
     "metadata": {},
     "output_type": "execute_result"
    }
   ],
   "source": [
    "# Exercise 1.1\n",
    "\n",
    "# remember that % is the modulo operator\n",
    "prime = 31\n",
    "(2+15)%31\n",
    "# 2+15=?\n",
    "(17+21)%31\n",
    "(29-4)%31\n",
    "(15-30)%31"
   ]
  },
  {
   "cell_type": "code",
   "execution_count": 20,
   "metadata": {},
   "outputs": [
    {
     "name": "stderr",
     "output_type": "stream",
     "text": [
      ".\n",
      "----------------------------------------------------------------------\n",
      "Ran 1 test in 0.001s\n",
      "\n",
      "OK\n",
      ".\n",
      "----------------------------------------------------------------------\n",
      "Ran 1 test in 0.001s\n",
      "\n",
      "OK\n"
     ]
    }
   ],
   "source": [
    "# Exercise 1.2\n",
    "\n",
    "reload(ecc)\n",
    "run_test(ecc.FieldElementTest('test_add'))\n",
    "run_test(ecc.FieldElementTest('test_sub'))"
   ]
  },
  {
   "cell_type": "markdown",
   "metadata": {},
   "source": [
    "### Exercise 2\n",
    "\n",
    "#### 2.1. Solve these equations in \\\\(F_{31}\\\\):\n",
    "\n",
    "\\\\(24\\cdot19=?\\\\)\n",
    "\n",
    "\\\\(17^3=?\\\\)\n",
    "\n",
    "\\\\(5^5\\cdot18=?\\\\)\n",
    "\n",
    "#### 2.2. Write a program to calculate \\\\(0k, 1k, 2k, 3k, ... 30k\\\\) for some k in \\\\(F_{31}\\\\).  Notice anything about these sets?\n",
    "\n",
    "#### 2.3. Write a program to calculate \\\\(k^{30}\\\\) for all k in \\\\(F_{31}\\\\). Notice anything?\n",
    "\n",
    "#### 2.4. Make [these tests](/edit/session1/ecc.py) pass:\n",
    "```\n",
    "ecc.py:FieldElementTest:test_mul\n",
    "ecc.py:FieldElementTest:test_pow\n",
    "```"
   ]
  },
  {
   "cell_type": "code",
   "execution_count": 29,
   "metadata": {},
   "outputs": [
    {
     "name": "stdout",
     "output_type": "stream",
     "text": [
      "22\n",
      "15\n",
      "16\n"
     ]
    }
   ],
   "source": [
    "# Exercise 2.1\n",
    "\n",
    "# remember that ** is the exponentiation operator\n",
    "prime = 31\n",
    "print(24*19 % prime)\n",
    "print(17**3%prime)\n",
    "print(5**5*18 % prime)"
   ]
  },
  {
   "cell_type": "code",
   "execution_count": 40,
   "metadata": {},
   "outputs": [
    {
     "name": "stdout",
     "output_type": "stream",
     "text": [
      "0\n",
      "24\n",
      "48\n",
      "72\n",
      "96\n",
      "120\n",
      "144\n",
      "168\n",
      "192\n",
      "216\n",
      "240\n",
      "264\n",
      "288\n",
      "312\n",
      "336\n",
      "360\n",
      "384\n",
      "408\n",
      "432\n",
      "456\n",
      "480\n",
      "504\n",
      "528\n",
      "552\n",
      "576\n",
      "600\n",
      "624\n",
      "648\n",
      "672\n",
      "696\n",
      "720\n"
     ]
    }
   ],
   "source": [
    "# Exercise 2.2\n",
    "\n",
    "from random import randint\n",
    "\n",
    "prime = 31\n",
    "k = randint(1,prime)\n",
    "for n in range(prime):\n",
    "    print(n*k)\n",
    "\n",
    "# use range(prime) to iterate over all numbers from 0 to 30 inclusive"
   ]
  },
  {
   "cell_type": "code",
   "execution_count": 42,
   "metadata": {},
   "outputs": [
    {
     "name": "stdout",
     "output_type": "stream",
     "text": [
      "1\n",
      "1073741824\n",
      "205891132094649\n",
      "1152921504606846976\n",
      "931322574615478515625\n",
      "221073919720733357899776\n",
      "22539340290692258087863249\n",
      "1237940039285380274899124224\n",
      "42391158275216203514294433201\n",
      "1000000000000000000000000000000\n",
      "17449402268886407318558803753801\n",
      "237376313799769806328950291431424\n",
      "2619995643649944960380551432833049\n",
      "24201432355484595421941037243826176\n",
      "191751059232884086668491363525390625\n",
      "1329227995784915872903807060280344576\n",
      "8193465725814765556554001028792218849\n",
      "45517159607903340355793714778287898624\n",
      "230466617897195215045509519405933293401\n",
      "1073741824000000000000000000000000000000\n",
      "4640650289117164100520051333566036654601\n",
      "18736153019903829443036278993864332673024\n",
      "71094348791151363024389554286420996798449\n",
      "254880876153761202627773829926908776677376\n",
      "867361737988403547205962240695953369140625\n",
      "2813198901284745919258621029615971520741376\n",
      "8727963568087712425891397479476727340041449\n",
      "25986090120790645892257018950637850957185024\n",
      "74462898441675122902293018227199467668020601\n",
      "205891132094649000000000000000000000000000000\n"
     ]
    }
   ],
   "source": [
    "# Exercise 2.3\n",
    "\n",
    "prime = 31\n",
    "\n",
    "for n in range(1, prime):\n",
    "    print(n**30)\n",
    "# use range(1, prime) to iterate over all numbers from 1 to 30 inclusive"
   ]
  },
  {
   "cell_type": "code",
   "execution_count": 44,
   "metadata": {},
   "outputs": [
    {
     "name": "stderr",
     "output_type": "stream",
     "text": [
      ".\n",
      "----------------------------------------------------------------------\n",
      "Ran 1 test in 0.001s\n",
      "\n",
      "OK\n",
      "E\n",
      "======================================================================\n",
      "ERROR: test_pow (ecc.FieldElementTest)\n",
      "----------------------------------------------------------------------\n",
      "Traceback (most recent call last):\n",
      "  File \"/Users/jonas/crypto/pb-exercises/session1/ecc.py\", line 105, in test_pow\n",
      "    self.assertEqual(a**3, FieldElement(15, 31))\n",
      "  File \"/Users/jonas/crypto/pb-exercises/session1/ecc.py\", line 64, in __pow__\n",
      "    raise NotImplementedError\n",
      "NotImplementedError\n",
      "\n",
      "----------------------------------------------------------------------\n",
      "Ran 1 test in 0.003s\n",
      "\n",
      "FAILED (errors=1)\n"
     ]
    }
   ],
   "source": [
    "# Exercise 2.4\n",
    "\n",
    "reload(ecc)\n",
    "run_test(ecc.FieldElementTest('test_mul'))\n",
    "run_test(ecc.FieldElementTest('test_pow'))"
   ]
  },
  {
   "cell_type": "markdown",
   "metadata": {},
   "source": [
    "### Exercise 3\n",
    "\n",
    "#### 3.1. Solve these equations in \\\\(F_{31}\\\\):\n",
    "\n",
    "\\\\(3/24 = ?\\\\)\n",
    "\n",
    "\\\\(17^{-3} = ?\\\\)\n",
    "\n",
    "\\\\(4^{-4}\\cdot{11} = ?\\\\)\n",
    "\n",
    "#### 3.2. Write a program to calculate \\\\(k/1, k/2, k/3, ...k/30\\\\) for some k in \\\\(F_{31}\\\\). Notice anything about these sets?\n",
    "\n",
    "#### 3.3. Make [these tests](/edit/session1/ecc.py) pass:\n",
    "\n",
    "```\n",
    "ecc.py:FieldElementTest:test_div\n",
    "```"
   ]
  },
  {
   "cell_type": "code",
   "execution_count": 53,
   "metadata": {},
   "outputs": [
    {
     "name": "stdout",
     "output_type": "stream",
     "text": [
      "4\n"
     ]
    }
   ],
   "source": [
    "# Exercise 3.1\n",
    "\n",
    "# remember pow(x, p-2, p) is the same as 1/x in F_p\n",
    "prime = 31\n",
    "# 3/24 = ?\n",
    "print(3*24 ** (prime - 2) % prime)\n",
    "# 17^(-3) = ?\n",
    "# 4^(-4)*11 = ?"
   ]
  },
  {
   "cell_type": "code",
   "execution_count": null,
   "metadata": {},
   "outputs": [],
   "source": [
    "# Exercise 3.2\n",
    "\n",
    "from random import randint\n",
    "\n",
    "prime = 31\n",
    "k = randint(1, prime)\n",
    "\n",
    "# use range(31) to iterate over all numbers from 0 to 30 inclusive"
   ]
  },
  {
   "cell_type": "code",
   "execution_count": null,
   "metadata": {},
   "outputs": [],
   "source": [
    "# Exercise 3.3\n",
    "\n",
    "reload(ecc)\n",
    "run_test(ecc.FieldElementTest('test_div'))\n",
    "\n",
    "# Hint: the __pow__ method needs a positive number for the exponent.\n",
    "# You can mod by p-1"
   ]
  },
  {
   "cell_type": "markdown",
   "metadata": {},
   "source": [
    "### Exercise 4\n",
    "\n",
    "#### 4.1. For the curve \\\\(y^2 = x^3 + 5x + 7\\\\), which of these are on the curve?\n",
    "\n",
    "\\\\((-2,4), (3,7), (18,77)\\\\)\n",
    "\n",
    "#### 4.2. Make [this test](/edit/session1/ecc.py) pass\n",
    "```\n",
    "ecc.py:PointTest:test_on_curve\n",
    "```"
   ]
  },
  {
   "cell_type": "code",
   "execution_count": 74,
   "metadata": {},
   "outputs": [
    {
     "name": "stdout",
     "output_type": "stream",
     "text": [
      "(-2, 4) isn't on the curve\n",
      "(3, 7) is on the curve.\n",
      "(18, 77) is on the curve.\n"
     ]
    }
   ],
   "source": [
    "# Exercise 4.1\n",
    "\n",
    "# (-2,4), (3,7), (18,77)\n",
    "# equation in python is: y**2 == x**3 + 5*x + 7\n",
    "def Point(x=0, y=0, a=5, b=7):\n",
    "      raise RuntimeError\n",
    "\n",
    "points = ((-2,4), (3,7), (18,77))\n",
    "\n",
    "for x, y in points:\n",
    "    if (y**2 == x**3 + 5*x + 7):\n",
    "        print(f\"{x, y} is on the curve.\")\n",
    "    else:\n",
    "        print(f\"{x, y} isn't on the curve\")\n",
    "        \n",
    "    # determine whether (x,y) is on the curve\n",
    "\n"
   ]
  },
  {
   "cell_type": "code",
   "execution_count": 73,
   "metadata": {},
   "outputs": [
    {
     "name": "stderr",
     "output_type": "stream",
     "text": [
      ".\n",
      "----------------------------------------------------------------------\n",
      "Ran 1 test in 0.001s\n",
      "\n",
      "OK\n"
     ]
    }
   ],
   "source": [
    "# Exercise 4.2\n",
    "\n",
    "reload(ecc)\n",
    "run_test(ecc.PointTest('test_on_curve'))"
   ]
  },
  {
   "cell_type": "markdown",
   "metadata": {},
   "source": [
    "### Exercise 5\n",
    "\n",
    "#### 5.1. Make [this test](/edit/session1/ecc.py) pass\n",
    "```\n",
    "ecc.py:PointTest:test_add0\n",
    "```"
   ]
  },
  {
   "cell_type": "code",
   "execution_count": 80,
   "metadata": {},
   "outputs": [
    {
     "name": "stderr",
     "output_type": "stream",
     "text": [
      "E\n",
      "======================================================================\n",
      "ERROR: test_add0 (ecc.PointTest)\n",
      "----------------------------------------------------------------------\n",
      "Traceback (most recent call last):\n",
      "  File \"/Users/jonas/crypto/pb-exercises/session1/ecc.py\", line 202, in test_add0\n",
      "    self.assertEqual(b+c, a)\n",
      "  File \"/Users/jonas/crypto/pb-exercises/session1/ecc.py\", line 168, in __add__\n",
      "    return self._class_(None, None, self.a, self.b)\n",
      "AttributeError: 'Point' object has no attribute '_class_'\n",
      "\n",
      "----------------------------------------------------------------------\n",
      "Ran 1 test in 0.006s\n",
      "\n",
      "FAILED (errors=1)\n"
     ]
    }
   ],
   "source": [
    "# Exercise 5.1\n",
    "\n",
    "reload(ecc)\n",
    "run_test(ecc.PointTest('test_add0'))"
   ]
  },
  {
   "cell_type": "markdown",
   "metadata": {},
   "source": [
    "### Exercise 6\n",
    "\n",
    "#### 6.1. For the curve \\\\(y^2 = x^3 + 5x + 7\\\\), what is \\\\((2,5) + (-1,-1)\\\\)?\n",
    "\n",
    "#### 6.2. Make [this test](/edit/session1/ecc.py) pass\n",
    "```\n",
    "ecc.py:PointTest:test_add1\n",
    "```"
   ]
  },
  {
   "cell_type": "code",
   "execution_count": null,
   "metadata": {},
   "outputs": [],
   "source": [
    "# Exercise 6.1\n",
    "\n",
    "x1, y1 = (2,5)\n",
    "x2, y2 = (-1,-1)\n",
    "# formula in python:\n",
    "# s = (y2-y1)/(x2-x1)\n",
    "# x3 = s**2 - x2 - x1\n",
    "# y3 = s*(x1-x3)-y1"
   ]
  },
  {
   "cell_type": "code",
   "execution_count": null,
   "metadata": {},
   "outputs": [],
   "source": [
    "# Exercise 6.2\n",
    "\n",
    "reload(ecc)\n",
    "run_test(ecc.PointTest('test_add1'))"
   ]
  },
  {
   "cell_type": "markdown",
   "metadata": {},
   "source": [
    "### Exercise 7\n",
    "\n",
    "#### 7.1. For the curve \\\\(y^2 = x^3 + 5x + 7\\\\), what is \\\\((-1,1) + (-1,1)\\\\)?\n",
    "\n",
    "#### 7.2. Make [this test](/edit/session1/ecc.py) pass\n",
    "```\n",
    "ecc.py:PointTest:test_add2\n",
    "```"
   ]
  },
  {
   "cell_type": "code",
   "execution_count": null,
   "metadata": {},
   "outputs": [],
   "source": [
    "# Exercise 7.1\n",
    "\n",
    "a, b = 5, 7\n",
    "x1, y1 = -1, -1\n",
    "\n",
    "# formula in python\n",
    "# s = (3*x1**2+a)/(2*y1)\n",
    "# x3 = s**2 - 2*x1\n",
    "# y3 = s*(x1-x3) - y1y3 = s*(x1-x3) - y1"
   ]
  },
  {
   "cell_type": "code",
   "execution_count": null,
   "metadata": {},
   "outputs": [],
   "source": [
    "# Exercise 7.2\n",
    "\n",
    "reload(ecc)\n",
    "run_test(ecc.PointTest('test_add2'))"
   ]
  }
 ],
 "metadata": {
  "kernelspec": {
   "display_name": "Python 3",
   "language": "python",
   "name": "python3"
  },
  "language_info": {
   "codemirror_mode": {
    "name": "ipython",
    "version": 3
   },
   "file_extension": ".py",
   "mimetype": "text/x-python",
   "name": "python",
   "nbconvert_exporter": "python",
   "pygments_lexer": "ipython3",
   "version": "3.6.5"
  }
 },
 "nbformat": 4,
 "nbformat_minor": 2
}
